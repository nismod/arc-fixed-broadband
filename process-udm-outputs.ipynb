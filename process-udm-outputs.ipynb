{
 "cells": [
  {
   "cell_type": "code",
   "execution_count": null,
   "metadata": {},
   "outputs": [],
   "source": [
    "import glob\n",
    "import json\n",
    "import os\n",
    "\n",
    "import geopandas\n",
    "import numpy\n",
    "import pandas\n",
    "import seaborn\n",
    "\n",
    "from matplotlib import pyplot as plt\n",
    "from rasterstats import gen_zonal_stats\n",
    "from tqdm import tqdm_notebook as tqdm"
   ]
  },
  {
   "cell_type": "code",
   "execution_count": null,
   "metadata": {},
   "outputs": [],
   "source": [
    "def load_config(path='config.json'):\n",
    "    \"\"\"Read JSON config file - copy `config.template.json` to `config.json` and fill with details\n",
    "    \"\"\"\n",
    "    with open(path) as fh:\n",
    "        config = json.load(fh)\n",
    "    return config"
   ]
  },
  {
   "cell_type": "code",
   "execution_count": null,
   "metadata": {},
   "outputs": [],
   "source": [
    "data_path = load_config()['data']\n",
    "data_path"
   ]
  },
  {
   "cell_type": "markdown",
   "metadata": {},
   "source": [
    "## Count cells developed/undeveloped/existing per Output Area\n",
    "\n",
    "This step is slow - approx 45m per scenario. Dump to CSV immediately after, load from CSV for further processing and skip this step if possible."
   ]
  },
  {
   "cell_type": "code",
   "execution_count": null,
   "metadata": {},
   "outputs": [],
   "source": [
    "stats_by_scenario = {}\n",
    "for key in ['baseline', 'settlements', 'expansion', 'unplanned']:\n",
    "    stats_by_scenario[key] = [\n",
    "        f['properties']\n",
    "        for f in tqdm(gen_zonal_stats(\n",
    "            os.path.join(data_path, 'boundaries', 'arc_oa_11.gpkg'), \n",
    "            os.path.join(data_path, 'udm-results-20191025', '{}_cell_dev.asc'.format(key)),\n",
    "            categorical=True,\n",
    "            geojson_out=True\n",
    "        ), total=11085)\n",
    "    ]"
   ]
  },
  {
   "cell_type": "code",
   "execution_count": null,
   "metadata": {},
   "outputs": [],
   "source": [
    "dfs = []\n",
    "for key, data in stats_by_scenario.items():\n",
    "    df = pandas.DataFrame(data) \\\n",
    "        .fillna(0) \\\n",
    "        .rename(columns={0:'undeveloped', 1: 'existing', 2: 'developed'})\n",
    "    df['scenario'] = key\n",
    "    dfs.append(df)\n",
    "stats = pandas.concat(dfs)"
   ]
  },
  {
   "cell_type": "code",
   "execution_count": null,
   "metadata": {},
   "outputs": [],
   "source": [
    "stats.to_csv('stats.csv', index=False)"
   ]
  },
  {
   "cell_type": "code",
   "execution_count": null,
   "metadata": {},
   "outputs": [],
   "source": [
    "stats = pandas.read_csv('stats.csv')"
   ]
  },
  {
   "cell_type": "code",
   "execution_count": null,
   "metadata": {},
   "outputs": [],
   "source": [
    "assert len(stats) == 11085*4, len(stats) / 11085\n",
    "assert len(stats.lad11cd.unique()) == 26, len(stats.lad11cd.unique())"
   ]
  },
  {
   "cell_type": "code",
   "execution_count": null,
   "metadata": {},
   "outputs": [],
   "source": [
    "stats.scenario.unique()"
   ]
  },
  {
   "cell_type": "code",
   "execution_count": null,
   "metadata": {},
   "outputs": [],
   "source": [
    "stats.head()"
   ]
  },
  {
   "cell_type": "code",
   "execution_count": null,
   "metadata": {},
   "outputs": [],
   "source": [
    "stats['final'] = (stats.existing + stats.developed)"
   ]
  },
  {
   "cell_type": "code",
   "execution_count": null,
   "metadata": {},
   "outputs": [],
   "source": [
    "# calculate by lad\n",
    "by_lad = stats[['scenario', 'lad16cd', 'existing', 'developed', 'final']] \\\n",
    "    .groupby(['scenario', 'lad16cd']) \\\n",
    "    .sum() \\\n",
    "    .reset_index() \\\n",
    "    .rename(columns={'existing': 'existing_lad', 'developed': 'developed_lad', 'final': 'final_lad'})"
   ]
  },
  {
   "cell_type": "code",
   "execution_count": null,
   "metadata": {},
   "outputs": [],
   "source": [
    "statsd = stats.merge(by_lad, on=['scenario', 'lad16cd'])\n",
    "statsd.head(2)"
   ]
  },
  {
   "cell_type": "code",
   "execution_count": null,
   "metadata": {},
   "outputs": [],
   "source": [
    "# read in dwellings per lad per scenario\n",
    "dfs = []\n",
    "for scenario, key in [\n",
    "        ('baseline', 'baseline'), \n",
    "        ('settlements', '1-new-cities'), \n",
    "        ('expansion', '2-expansion'), \n",
    "        ('unplanned', '0-unplanned')\n",
    "    ]:\n",
    "    df = pandas.read_csv(os.path.join(data_path, 'socio-economic-1.0.1', 'arc_dwellings__{}.csv'.format(key))) \\\n",
    "        .rename(columns={'lad_uk_2016': 'lad16cd'}) \\\n",
    "        .drop(columns=['lad16nm'])\n",
    "    df['scenario'] = scenario\n",
    "    df = df[df.timestep.isin((2015, 2050)) & df.lad16cd.isin(statsdprop.lad16cd.unique())] \\\n",
    "        .sort_values(by=['scenario','lad16cd', 'timestep'])\n",
    "    dfs.append(df)\n",
    "dwellings = pandas.concat(dfs).set_index(['lad16cd','scenario','timestep']).unstack(level=-1).reset_index()\n",
    "dwellings.columns = ['lad16cd', 'scenario', 'dwellings_lad__initial', 'dwellings_lad__final']\n",
    "dwellings['dwellings_lad__change'] = dwellings.dwellings_lad__final - dwellings.dwellings_lad__initial\n",
    "dwellings.head(3)"
   ]
  },
  {
   "cell_type": "code",
   "execution_count": null,
   "metadata": {},
   "outputs": [],
   "source": [
    "# calculate dwellings as proportion of lad, as integer\n",
    "sd = statsd.merge(dwellings, on=['lad16cd', 'scenario'])\n",
    "sd['dwellings_oa__initial'] = (\n",
    "    (sd.existing/sd.existing_lad) * sd.dwellings_lad__initial\n",
    ").round().astype(int)\n",
    "sd['dwellings_oa__final'] = (\n",
    "    sd.dwellings_oa__initial + ((sd.developed/(sd.developed_lad+0.1)) * sd.dwellings_lad__change)\n",
    ").round().astype(int)\n",
    "sd['dwellings_oa__final_even'] = (\n",
    "    (sd.final/sd.final_lad) * sd.dwellings_lad__final\n",
    ").round().astype(int)\n",
    "sd"
   ]
  },
  {
   "cell_type": "code",
   "execution_count": null,
   "metadata": {},
   "outputs": [],
   "source": [
    "oa_dwellings = sd[['scenario', 'oa11cd', 'lad11cd', 'lad11nm', 'undeveloped','existing','developed','dwellings_oa__initial','dwellings_oa__final','dwellings_oa__final_even']]\n",
    "oa_dwellings.head(2)"
   ]
  },
  {
   "cell_type": "code",
   "execution_count": null,
   "metadata": {},
   "outputs": [],
   "source": [
    "oa_dwellings.to_csv(os.path.join(data_path, 'processed', 'oa_dwellings.csv'), index=False)"
   ]
  },
  {
   "cell_type": "code",
   "execution_count": null,
   "metadata": {},
   "outputs": [],
   "source": [
    "oa_dwellings_fat = oa_dwellings.pivot_table(columns='scenario', index=['oa11cd', 'lad11cd', 'lad11nm'])\n",
    "oa_dwellings_fat.columns = [\"{}__{}\".format(a, b) for a, b in oa_dwellings_fat.columns]\n",
    "oa_dwellings_fat.head(2)"
   ]
  },
  {
   "cell_type": "code",
   "execution_count": null,
   "metadata": {},
   "outputs": [],
   "source": [
    "oa_dwellings_fat.to_csv(os.path.join(data_path, 'processed', 'oa_dwellings_fat.csv'))"
   ]
  },
  {
   "cell_type": "code",
   "execution_count": null,
   "metadata": {},
   "outputs": [],
   "source": [
    "oas = geopandas.read_file(os.path.join(data_path, 'boundaries', 'arc_oa_11.gpkg'))"
   ]
  },
  {
   "cell_type": "code",
   "execution_count": null,
   "metadata": {},
   "outputs": [],
   "source": [
    "oas = oas.merge(oa_dwellings_fat.reset_index(), on=['oa11cd', 'lad11cd', 'lad11nm'], validate='one_to_one')"
   ]
  },
  {
   "cell_type": "code",
   "execution_count": null,
   "metadata": {},
   "outputs": [],
   "source": [
    "oas.to_file(os.path.join(data_path, 'processed', 'oas_with_dwellings.gpkg'), driver='GPKG')"
   ]
  },
  {
   "cell_type": "markdown",
   "metadata": {},
   "source": [
    "### Plotting"
   ]
  },
  {
   "cell_type": "code",
   "execution_count": null,
   "metadata": {},
   "outputs": [],
   "source": [
    "oas_d = geopandas.read_file(os.path.join(data_path, 'processed', 'oas_with_dwellings.gpkg'))"
   ]
  },
  {
   "cell_type": "code",
   "execution_count": null,
   "metadata": {},
   "outputs": [],
   "source": [
    "oas_d.columns"
   ]
  },
  {
   "cell_type": "code",
   "execution_count": null,
   "metadata": {},
   "outputs": [],
   "source": [
    "oas_dm = oas_d[[\n",
    "    'oa11cd', 'st_areasha', 'geometry',\n",
    "    'dwellings_oa__initial__baseline', \n",
    "    'dwellings_oa__final_even__baseline',  \n",
    "    'dwellings_oa__final_even__expansion',\n",
    "    'dwellings_oa__final_even__settlements',\n",
    "    'dwellings_oa__final_even__unplanned'\n",
    "]].melt(\n",
    "    id_vars=['oa11cd', 'st_areasha', 'geometry'], \n",
    "    value_vars=[\n",
    "        'dwellings_oa__initial__baseline', \n",
    "        'dwellings_oa__final_even__baseline',  \n",
    "        'dwellings_oa__final_even__expansion',\n",
    "        'dwellings_oa__final_even__settlements',\n",
    "        'dwellings_oa__final_even__unplanned'\n",
    "    ],\n",
    "    var_name='scenario',\n",
    "    value_name='dwellings'\n",
    ")\n",
    "oas_dm.head(2)"
   ]
  },
  {
   "cell_type": "code",
   "execution_count": null,
   "metadata": {},
   "outputs": [],
   "source": [
    "oas_dm['dwelling_density'] = oas_dm.dwellings / (oas_dm.st_areasha/1e6)\n",
    "oas_dm['dwelling_density_sqrt'] = numpy.sqrt(oas_dm.dwellings / (oas_dm.st_areasha/1e6))"
   ]
  },
  {
   "cell_type": "code",
   "execution_count": null,
   "metadata": {},
   "outputs": [],
   "source": [
    "oas_dm.describe()"
   ]
  },
  {
   "cell_type": "code",
   "execution_count": null,
   "metadata": {},
   "outputs": [],
   "source": [
    "def plot_map(data, *args, **kwargs):\n",
    "    cax = plt.gca()\n",
    "    ax = data.plot(\n",
    "        column='dwelling_density', \n",
    "        ax=cax,\n",
    "        linewidth=0.001, \n",
    "        edgecolor='white',\n",
    "        legend=(data[0].scenario == 'dwellings_oa__final_even__unplanned'),  # fixme\n",
    "        vmin=0,\n",
    "        vmax=3000  # magic number to avoid over-rescaling axis, roughly twice the 75th percentile density\n",
    "    )\n",
    "    ax.set_axis_off()\n",
    "    return ax\n",
    "\n",
    "seaborn.set_context(\"paper\", font_scale=4)\n",
    "\n",
    "g = seaborn.FacetGrid(\n",
    "    data=oas_dm, \n",
    "    col='scenario', \n",
    "    height=20, \n",
    "    sharex=True, \n",
    "    sharey=True,\n",
    "    col_wrap=2\n",
    ")\n",
    "fig = g.map_dataframe(plot_map)\n",
    "fig.savefig('dwellings_density_legend.png')\n",
    "fig.savefig('dwellings_density_legend.svg')\n",
    "fig"
   ]
  }
 ],
 "metadata": {
  "kernelspec": {
   "display_name": "Python 3",
   "language": "python",
   "name": "python3"
  },
  "language_info": {
   "codemirror_mode": {
    "name": "ipython",
    "version": 3
   },
   "file_extension": ".py",
   "mimetype": "text/x-python",
   "name": "python",
   "nbconvert_exporter": "python",
   "pygments_lexer": "ipython3",
   "version": "3.7.3"
  }
 },
 "nbformat": 4,
 "nbformat_minor": 2
}
